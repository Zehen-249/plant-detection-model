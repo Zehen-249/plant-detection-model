{
 "cells": [
  {
   "cell_type": "code",
   "execution_count": 1,
   "metadata": {},
   "outputs": [
    {
     "name": "stderr",
     "output_type": "stream",
     "text": [
      "c:\\Users\\1hasa\\miniconda3\\envs\\old_base\\lib\\site-packages\\tqdm\\auto.py:21: TqdmWarning: IProgress not found. Please update jupyter and ipywidgets. See https://ipywidgets.readthedocs.io/en/stable/user_install.html\n",
      "  from .autonotebook import tqdm as notebook_tqdm\n",
      "c:\\Users\\1hasa\\miniconda3\\envs\\old_base\\lib\\site-packages\\ultralytics\\nn\\tasks.py:340: FutureWarning: You are using `torch.load` with `weights_only=False` (the current default value), which uses the default pickle module implicitly. It is possible to construct malicious pickle data which will execute arbitrary code during unpickling (See https://github.com/pytorch/pytorch/blob/main/SECURITY.md#untrusted-models for more details). In a future release, the default value for `weights_only` will be flipped to `True`. This limits the functions that could be executed during unpickling. Arbitrary objects will no longer be allowed to be loaded via this mode unless they are explicitly allowlisted by the user via `torch.serialization.add_safe_globals`. We recommend you start setting `weights_only=True` for any use case where you don't have full control of the loaded file. Please open an issue on GitHub for any issues related to this experimental feature.\n",
      "  return torch.load(file, map_location='cpu'), file  # load\n",
      "Ultralytics YOLOv8.0.43  Python-3.8.20 torch-2.4.1+cpu CPU\n",
      "Model summary (fused): 168 layers, 11143386 parameters, 0 gradients, 28.5 GFLOPs\n",
      "\n",
      "image 1/1 C:\\Users\\1hasa\\Python\\DDUC Hackathon\\sunflower.jpg: 640x448 4 sunflowers, 448.0ms\n",
      "Speed: 7.6ms preprocess, 448.0ms inference, 26.0ms postprocess per image at shape (1, 3, 640, 640)\n"
     ]
    },
    {
     "name": "stdout",
     "output_type": "stream",
     "text": [
      "tensor([[6.40000e+01, 2.26000e+02, 1.64000e+02, 3.29000e+02, 6.63659e-01, 2.50000e+01],\n",
      "        [1.43000e+02, 9.70000e+01, 2.29000e+02, 1.68000e+02, 4.17126e-01, 2.50000e+01],\n",
      "        [1.15000e+02, 1.49000e+02, 2.24000e+02, 2.22000e+02, 3.52498e-01, 2.50000e+01],\n",
      "        [4.60000e+01, 1.55000e+02, 1.25000e+02, 2.38000e+02, 2.76934e-01, 2.50000e+01]])\n"
     ]
    }
   ],
   "source": [
    "from ultralyticsplus import YOLO, render_result\n",
    "\n",
    "# load model\n",
    "model = YOLO('foduucom/plant-leaf-detection-and-classification')\n",
    "\n",
    "# set model parameters\n",
    "model.overrides['conf'] = 0.25  # NMS confidence threshold\n",
    "model.overrides['iou'] = 0.45  # NMS IoU threshold\n",
    "model.overrides['agnostic_nms'] = False  # NMS class-agnostic\n",
    "model.overrides['max_det'] = 1000  # maximum number of detections per image\n",
    "\n",
    "\n",
    "# set image\n",
    "image = 'sunflower.jpg'\n",
    "\n",
    "# perform inference\n",
    "results = model.predict(image)\n",
    "\n",
    "# observe results\n",
    "print(results[0].boxes)\n",
    "render = render_result(model=model, image=image, result=results[0])\n",
    "render.show()\n"
   ]
  }
 ],
 "metadata": {
  "kernelspec": {
   "display_name": "old_base",
   "language": "python",
   "name": "python3"
  },
  "language_info": {
   "codemirror_mode": {
    "name": "ipython",
    "version": 3
   },
   "file_extension": ".py",
   "mimetype": "text/x-python",
   "name": "python",
   "nbconvert_exporter": "python",
   "pygments_lexer": "ipython3",
   "version": "3.8.20"
  }
 },
 "nbformat": 4,
 "nbformat_minor": 2
}
